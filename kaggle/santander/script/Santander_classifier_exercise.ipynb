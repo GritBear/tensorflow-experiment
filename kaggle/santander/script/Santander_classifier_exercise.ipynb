{
 "cells": [
  {
   "cell_type": "markdown",
   "metadata": {},
   "source": [
    "# Santander Classification Exercise"
   ]
  },
  {
   "cell_type": "markdown",
   "metadata": {},
   "source": [
    "## Test io_util"
   ]
  },
  {
   "cell_type": "code",
   "execution_count": 7,
   "metadata": {
    "collapsed": false,
    "scrolled": false
   },
   "outputs": [
    {
     "name": "stdout",
     "output_type": "stream",
     "text": [
      "[[  1.00000000e+00   2.00000000e+00   2.30000000e+01 ...,   0.00000000e+00\n",
      "    3.92051700e+04   0.00000000e+00]\n",
      " [  3.00000000e+00   2.00000000e+00   3.40000000e+01 ...,   0.00000000e+00\n",
      "    4.92780300e+04   0.00000000e+00]\n",
      " [  4.00000000e+00   2.00000000e+00   2.30000000e+01 ...,   0.00000000e+00\n",
      "    6.73337700e+04   0.00000000e+00]\n",
      " ..., \n",
      " [  1.51835000e+05   2.00000000e+00   2.30000000e+01 ...,   0.00000000e+00\n",
      "    7.40281500e+04   0.00000000e+00]\n",
      " [  1.51836000e+05   2.00000000e+00   2.50000000e+01 ...,   0.00000000e+00\n",
      "    8.42781600e+04   0.00000000e+00]\n",
      " [  1.51838000e+05   2.00000000e+00   4.60000000e+01 ...,   0.00000000e+00\n",
      "    1.17310979e+05   0.00000000e+00]]\n"
     ]
    }
   ],
   "source": [
    "import io_util\n",
    "\n",
    "trainFile = 'train.csv'\n",
    "testFile = 'test.csv'\n",
    "\n",
    "TrainInput, header = io_util.extract_txt_arr(trainFile)\n",
    "\n",
    "print TrainInput"
   ]
  },
  {
   "cell_type": "markdown",
   "metadata": {
    "collapsed": true
   },
   "source": [
    "## Test input_data"
   ]
  },
  {
   "cell_type": "code",
   "execution_count": 6,
   "metadata": {
    "collapsed": false
   },
   "outputs": [
    {
     "name": "stdout",
     "output_type": "stream",
     "text": [
      "Reading Training Sets\n",
      "Reading Submission Sets\n",
      "Compose DataSets\n",
      "Training Dim\n",
      "369\n",
      "Testing Dim\n",
      "369\n",
      "Training Samples:\n",
      "76020\n",
      "Testing Samples\n",
      "75818\n"
     ]
    },
    {
     "ename": "TypeError",
     "evalue": "'numpy.ndarray' object is not callable",
     "output_type": "error",
     "traceback": [
      "\u001b[1;31m---------------------------------------------------------------------------\u001b[0m",
      "\u001b[1;31mTypeError\u001b[0m                                 Traceback (most recent call last)",
      "\u001b[1;32m<ipython-input-6-9c2442b8966e>\u001b[0m in \u001b[0;36m<module>\u001b[1;34m()\u001b[0m\n\u001b[0;32m      3\u001b[0m \u001b[0mdataSets\u001b[0m \u001b[1;33m=\u001b[0m \u001b[0minput_data\u001b[0m\u001b[1;33m.\u001b[0m\u001b[0mread_input\u001b[0m\u001b[1;33m(\u001b[0m\u001b[1;33m)\u001b[0m\u001b[1;33m\u001b[0m\u001b[0m\n\u001b[0;32m      4\u001b[0m \u001b[1;33m\u001b[0m\u001b[0m\n\u001b[1;32m----> 5\u001b[1;33m \u001b[1;32mprint\u001b[0m\u001b[1;33m(\u001b[0m\u001b[0mdataSets\u001b[0m\u001b[1;33m.\u001b[0m\u001b[0moutput\u001b[0m\u001b[1;33m(\u001b[0m\u001b[1;33m)\u001b[0m\u001b[1;33m)\u001b[0m\u001b[1;33m\u001b[0m\u001b[0m\n\u001b[0m",
      "\u001b[1;31mTypeError\u001b[0m: 'numpy.ndarray' object is not callable"
     ]
    }
   ],
   "source": [
    "import input_data\n",
    "dataSets = input_data.read_input()"
   ]
  },
  {
   "cell_type": "code",
   "execution_count": 9,
   "metadata": {
    "collapsed": false
   },
   "outputs": [
    {
     "data": {
      "text/plain": [
       "2517.0"
      ]
     },
     "execution_count": 9,
     "metadata": {},
     "output_type": "execute_result"
    }
   ],
   "source": [
    "dataSets.output\n",
    "sum(dataSets.output)"
   ]
  },
  {
   "cell_type": "markdown",
   "metadata": {},
   "source": [
    "## Now work on classifier"
   ]
  },
  {
   "cell_type": "markdown",
   "metadata": {},
   "source": [
    "Simple implementation only achieves 0.82 precision"
   ]
  },
  {
   "cell_type": "code",
   "execution_count": 1,
   "metadata": {
    "collapsed": false
   },
   "outputs": [
    {
     "name": "stdout",
     "output_type": "stream",
     "text": [
      "Reading Training Sets\n",
      "Reading Submission Sets\n",
      "Compose DataSets\n",
      "Training Dim\n",
      "369\n",
      "Testing Dim\n",
      "369\n",
      "Training Samples:\n",
      "76020\n",
      "Testing Samples\n",
      "75818\n",
      "Step 0: loss = 0.00 (0.011 sec)\n",
      "Step 200: loss = 0.33 (0.001 sec)\n",
      "Step 400: loss = 0.05 (0.001 sec)\n",
      "Step 600: loss = 0.04 (0.001 sec)\n",
      "Step 800: loss = 0.04 (0.001 sec)\n",
      "Training Data Eval:\n",
      "  Num examples: 76020  Num correct: 62129  Precision @ 1: 0.8173\n",
      "Step 1000: loss = 0.20 (0.001 sec)\n",
      "Step 1200: loss = 0.04 (0.001 sec)\n",
      "Step 1400: loss = 0.35 (0.001 sec)\n",
      "Step 1600: loss = 0.69 (0.001 sec)\n",
      "Step 1800: loss = 0.04 (0.001 sec)\n",
      "Training Data Eval:\n",
      "  Num examples: 76020  Num correct: 62022  Precision @ 1: 0.8159\n",
      "Outputing Test\n",
      "[[  2.00000000e+00   3.20000000e+01   0.00000000e+00 ...,   0.00000000e+00\n",
      "    0.00000000e+00   4.05321000e+04]\n",
      " [  2.00000000e+00   3.50000000e+01   0.00000000e+00 ...,   0.00000000e+00\n",
      "    0.00000000e+00   4.54867200e+04]\n",
      " [  2.00000000e+00   2.30000000e+01   0.00000000e+00 ...,   0.00000000e+00\n",
      "    0.00000000e+00   4.69939500e+04]\n",
      " ..., \n",
      " [  2.00000000e+00   2.40000000e+01   0.00000000e+00 ...,   0.00000000e+00\n",
      "    0.00000000e+00   1.67299770e+05]\n",
      " [  2.00000000e+00   4.00000000e+01   0.00000000e+00 ...,   0.00000000e+00\n",
      "    0.00000000e+00   1.17310979e+05]\n",
      " [  2.00000000e+00   2.30000000e+01   0.00000000e+00 ...,   0.00000000e+00\n",
      "    0.00000000e+00   1.17310979e+05]]\n",
      "[27449  3898]\n",
      "[27449  3898]\n",
      "CSV data written../data/testOutput.csv\n"
     ]
    }
   ],
   "source": [
    "import input_data\n",
    "import io_util\n",
    "import autoencoder_classifier as classifier\n",
    "\n",
    "testData, outputArray = classifier.run_training()\n",
    "\n",
    "io_util.write_csv('testOutput.csv', outputArray)"
   ]
  },
  {
   "cell_type": "code",
   "execution_count": 5,
   "metadata": {
    "collapsed": false
   },
   "outputs": [
    {
     "data": {
      "text/plain": [
       "array([[  2.00000000e+00,   3.20000000e+01,   0.00000000e+00, ...,\n",
       "          0.00000000e+00,   0.00000000e+00,   4.05321000e+04],\n",
       "       [  2.00000000e+00,   3.50000000e+01,   0.00000000e+00, ...,\n",
       "          0.00000000e+00,   0.00000000e+00,   4.54867200e+04],\n",
       "       [  2.00000000e+00,   2.30000000e+01,   0.00000000e+00, ...,\n",
       "          0.00000000e+00,   0.00000000e+00,   4.69939500e+04],\n",
       "       ..., \n",
       "       [  2.00000000e+00,   2.40000000e+01,   0.00000000e+00, ...,\n",
       "          0.00000000e+00,   0.00000000e+00,   1.67299770e+05],\n",
       "       [  2.00000000e+00,   4.00000000e+01,   0.00000000e+00, ...,\n",
       "          0.00000000e+00,   0.00000000e+00,   1.17310979e+05],\n",
       "       [  2.00000000e+00,   2.30000000e+01,   0.00000000e+00, ...,\n",
       "          0.00000000e+00,   0.00000000e+00,   1.17310979e+05]])"
      ]
     },
     "execution_count": 5,
     "metadata": {},
     "output_type": "execute_result"
    }
   ],
   "source": [
    "testData"
   ]
  },
  {
   "cell_type": "code",
   "execution_count": 4,
   "metadata": {
    "collapsed": false
   },
   "outputs": [
    {
     "data": {
      "text/plain": [
       "array([27449,  3898])"
      ]
     },
     "execution_count": 4,
     "metadata": {},
     "output_type": "execute_result"
    }
   ],
   "source": [
    "outputArray"
   ]
  },
  {
   "cell_type": "markdown",
   "metadata": {},
   "source": [
    "# Improving the classifier"
   ]
  }
 ],
 "metadata": {
  "kernelspec": {
   "display_name": "Python 2",
   "language": "python",
   "name": "python2"
  },
  "language_info": {
   "codemirror_mode": {
    "name": "ipython",
    "version": 2
   },
   "file_extension": ".py",
   "mimetype": "text/x-python",
   "name": "python",
   "nbconvert_exporter": "python",
   "pygments_lexer": "ipython2",
   "version": "2.7.6"
  }
 },
 "nbformat": 4,
 "nbformat_minor": 0
}
