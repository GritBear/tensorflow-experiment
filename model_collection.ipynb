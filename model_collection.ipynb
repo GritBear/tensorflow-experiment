{
 "cells": [
  {
   "cell_type": "markdown",
   "metadata": {},
   "source": [
    "# Common Models"
   ]
  },
  {
   "cell_type": "markdown",
   "metadata": {},
   "source": [
    "Useful Resources:\n",
    "\n",
    "* [Clasification Models](http://rodrigob.github.io/are_we_there_yet/build/classification_datasets_results.html#4d4e495354)\n",
    "* [Caffe Models](https://github.com/BVLC/caffe/wiki/Model-Zoo)\n",
    "* [Computer Vision](https://github.com/jazzsaxmafia/awesome-deep-vision)\n",
    "* [RNN](https://github.com/jazzsaxmafia/awesome-rnn)\n",
    "    "
   ]
  },
  {
   "cell_type": "markdown",
   "metadata": {},
   "source": [
    "### Model Common Interface"
   ]
  },
  {
   "cell_type": "markdown",
   "metadata": {},
   "source": [
    "Tensorflow:\n",
    "\n",
    "* <b>input</b>: input layer feed\n",
    "\n",
    "* <b>output</b>: output raw value\n",
    "\n",
    "* <b>prob</b>: softmax probability output for classifiers\n",
    "\n",
    "\n"
   ]
  },
  {
   "cell_type": "markdown",
   "metadata": {},
   "source": [
    "### Model Categories"
   ]
  },
  {
   "cell_type": "markdown",
   "metadata": {},
   "source": [
    "* Handwritten Digit Recognition\n",
    "  \n",
    "  [LeNet](http://www.gritbear.com:18888/edit/repo/tensorflow-experiment/models/mnist/lenet.prototxt)\n",
    "\n",
    "* Image Classification\n",
    "\n",
    "  [VGG_16]()\n"
   ]
  }
 ],
 "metadata": {
  "kernelspec": {
   "display_name": "Python 2",
   "language": "python",
   "name": "python2"
  },
  "language_info": {
   "codemirror_mode": {
    "name": "ipython",
    "version": 2
   },
   "file_extension": ".py",
   "mimetype": "text/x-python",
   "name": "python",
   "nbconvert_exporter": "python",
   "pygments_lexer": "ipython2",
   "version": "2.7.6"
  }
 },
 "nbformat": 4,
 "nbformat_minor": 0
}
