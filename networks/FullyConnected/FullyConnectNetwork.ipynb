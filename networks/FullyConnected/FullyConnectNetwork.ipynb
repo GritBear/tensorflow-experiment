{
 "cells": [
  {
   "cell_type": "markdown",
   "metadata": {},
   "source": [
    "# Doc for a fully connected network"
   ]
  },
  {
   "cell_type": "markdown",
   "metadata": {},
   "source": [
    "The code uses MINST example from tensorflow sample code"
   ]
  },
  {
   "cell_type": "code",
   "execution_count": 1,
   "metadata": {
    "collapsed": false
   },
   "outputs": [
    {
     "name": "stdout",
     "output_type": "stream",
     "text": [
      "Extracting data/train-images-idx3-ubyte.gz\n",
      "Extracting data/train-labels-idx1-ubyte.gz\n",
      "Extracting data/t10k-images-idx3-ubyte.gz\n",
      "Extracting data/t10k-labels-idx1-ubyte.gz\n",
      "Step 0: loss = 2.31 (0.016 sec)\n",
      "Step 100: loss = 2.11 (0.011 sec)\n",
      "Step 200: loss = 1.79 (0.011 sec)\n",
      "Step 300: loss = 1.40 (0.011 sec)\n",
      "Step 400: loss = 1.18 (0.011 sec)\n",
      "Step 500: loss = 0.77 (0.011 sec)\n",
      "Step 600: loss = 0.74 (0.011 sec)\n",
      "Step 700: loss = 0.79 (0.011 sec)\n",
      "Step 800: loss = 0.79 (0.011 sec)\n",
      "Step 900: loss = 0.49 (0.011 sec)\n",
      "Training Data Eval:\n",
      "  Num examples: 55000  Num correct: 48111  Precision @ 1: 0.8747\n",
      "Validation Data Eval:\n",
      "  Num examples: 5000  Num correct: 4402  Precision @ 1: 0.8804\n",
      "Test Data Eval:\n",
      "  Num examples: 10000  Num correct: 8802  Precision @ 1: 0.8802\n",
      "Step 1000: loss = 0.44 (0.014 sec)\n",
      "Step 1100: loss = 0.32 (0.586 sec)\n",
      "Step 1200: loss = 0.52 (0.012 sec)\n",
      "Step 1300: loss = 0.40 (0.011 sec)\n",
      "Step 1400: loss = 0.41 (0.011 sec)\n",
      "Step 1500: loss = 0.34 (0.012 sec)\n",
      "Step 1600: loss = 0.34 (0.011 sec)\n",
      "Step 1700: loss = 0.43 (0.011 sec)\n",
      "Step 1800: loss = 0.27 (0.011 sec)\n",
      "Step 1900: loss = 0.36 (0.012 sec)\n",
      "Training Data Eval:\n",
      "  Num examples: 55000  Num correct: 49595  Precision @ 1: 0.9017\n",
      "Validation Data Eval:\n",
      "  Num examples: 5000  Num correct: 4550  Precision @ 1: 0.9100\n",
      "Test Data Eval:\n",
      "  Num examples: 10000  Num correct: 9064  Precision @ 1: 0.9064\n",
      "Step 2000: loss = 0.25 (0.015 sec)\n",
      "Step 2100: loss = 0.30 (0.011 sec)\n",
      "Step 2200: loss = 0.28 (0.542 sec)\n",
      "Step 2300: loss = 0.26 (0.011 sec)\n",
      "Step 2400: loss = 0.25 (0.012 sec)\n",
      "Step 2500: loss = 0.33 (0.024 sec)\n",
      "Step 2600: loss = 0.30 (0.013 sec)\n",
      "Step 2700: loss = 0.33 (0.012 sec)\n",
      "Step 2800: loss = 0.26 (0.011 sec)\n",
      "Step 2900: loss = 0.25 (0.011 sec)\n",
      "Training Data Eval:\n",
      "  Num examples: 55000  Num correct: 50226  Precision @ 1: 0.9132\n",
      "Validation Data Eval:\n",
      "  Num examples: 5000  Num correct: 4595  Precision @ 1: 0.9190\n",
      "Test Data Eval:\n",
      "  Num examples: 10000  Num correct: 9172  Precision @ 1: 0.9172\n"
     ]
    }
   ],
   "source": [
    "import minst\n",
    "minst.init(input_dim = 28*28, num_class = 10, max_steps = 3000, hidden1 = 250, hidden2 = 100, batch_size = 100, train_dir = 'data')\n",
    "minst.run_training()"
   ]
  },
  {
   "cell_type": "markdown",
   "metadata": {},
   "source": [
    "Making tf code reuseable as a module (removing dependency on Flag)"
   ]
  },
  {
   "cell_type": "code",
   "execution_count": 2,
   "metadata": {
    "collapsed": false
   },
   "outputs": [
    {
     "name": "stdout",
     "output_type": "stream",
     "text": [
      "Extracting data/train-images-idx3-ubyte.gz\n",
      "Extracting data/train-labels-idx1-ubyte.gz\n",
      "Extracting data/t10k-images-idx3-ubyte.gz\n",
      "Extracting data/t10k-labels-idx1-ubyte.gz\n",
      "Step 0: loss = 2.32 (0.011 sec)\n",
      "Step 100: loss = 2.17 (0.006 sec)\n",
      "Step 200: loss = 1.94 (0.006 sec)\n",
      "Step 300: loss = 1.67 (0.006 sec)\n",
      "Step 400: loss = 1.34 (0.006 sec)\n",
      "Step 500: loss = 0.96 (0.006 sec)\n",
      "Step 600: loss = 0.74 (0.006 sec)\n",
      "Step 700: loss = 0.72 (0.006 sec)\n",
      "Step 800: loss = 0.54 (0.006 sec)\n",
      "Step 900: loss = 0.63 (0.007 sec)\n",
      "Training Data Eval:\n",
      "  Num examples: 55000  Num correct: 47217  Precision @ 1: 0.8585\n",
      "Validation Data Eval:\n",
      "  Num examples: 5000  Num correct: 4358  Precision @ 1: 0.8716\n",
      "Test Data Eval:\n",
      "  Num examples: 10000  Num correct: 8688  Precision @ 1: 0.8688\n",
      "Step 1000: loss = 0.62 (0.009 sec)\n",
      "Step 1100: loss = 0.54 (0.540 sec)\n",
      "Step 1200: loss = 0.52 (0.007 sec)\n",
      "Step 1300: loss = 0.43 (0.006 sec)\n",
      "Step 1400: loss = 0.43 (0.006 sec)\n",
      "Step 1500: loss = 0.38 (0.006 sec)\n",
      "Step 1600: loss = 0.29 (0.006 sec)\n",
      "Step 1700: loss = 0.42 (0.006 sec)\n",
      "Step 1800: loss = 0.27 (0.006 sec)\n",
      "Step 1900: loss = 0.48 (0.006 sec)\n",
      "Training Data Eval:\n",
      "  Num examples: 55000  Num correct: 49331  Precision @ 1: 0.8969\n",
      "Validation Data Eval:\n",
      "  Num examples: 5000  Num correct: 4504  Precision @ 1: 0.9008\n",
      "Test Data Eval:\n",
      "  Num examples: 10000  Num correct: 8996  Precision @ 1: 0.8996\n"
     ]
    }
   ],
   "source": [
    "import minst_importable\n",
    "\n",
    "minst_importable.init()\n",
    "minst_importable.run_training()"
   ]
  },
  {
   "cell_type": "code",
   "execution_count": 4,
   "metadata": {
    "collapsed": false
   },
   "outputs": [
    {
     "name": "stdout",
     "output_type": "stream",
     "text": [
      "Extracting data/train-images-idx3-ubyte.gz\n",
      "Extracting data/train-labels-idx1-ubyte.gz\n",
      "Extracting data/t10k-images-idx3-ubyte.gz\n",
      "Extracting data/t10k-labels-idx1-ubyte.gz\n",
      "Step 0: loss = 2.30 (0.016 sec)\n",
      "Step 100: loss = 2.10 (0.011 sec)\n",
      "Step 200: loss = 1.79 (0.011 sec)\n",
      "Step 300: loss = 1.42 (0.011 sec)\n",
      "Step 400: loss = 1.20 (0.011 sec)\n",
      "Step 500: loss = 0.78 (0.017 sec)\n",
      "Step 600: loss = 0.60 (0.011 sec)\n",
      "Step 700: loss = 0.57 (0.012 sec)\n",
      "Step 800: loss = 0.55 (0.011 sec)\n",
      "Step 900: loss = 0.48 (0.011 sec)\n",
      "Training Data Eval:\n",
      "  Num examples: 55000  Num correct: 47956  Precision @ 1: 0.8719\n",
      "Validation Data Eval:\n",
      "  Num examples: 5000  Num correct: 4390  Precision @ 1: 0.8780\n",
      "Test Data Eval:\n",
      "  Num examples: 10000  Num correct: 8784  Precision @ 1: 0.8784\n"
     ]
    }
   ],
   "source": [
    "minst_importable.init(input_dim = 28*28, num_class = 10, max_steps = 1000, hidden1 = 250, hidden2 = 100, batch_size = 100, train_dir = 'data')\n",
    "minst_importable.run_training()"
   ]
  }
 ],
 "metadata": {
  "kernelspec": {
   "display_name": "Python 2",
   "language": "python",
   "name": "python2"
  },
  "language_info": {
   "codemirror_mode": {
    "name": "ipython",
    "version": 2
   },
   "file_extension": ".py",
   "mimetype": "text/x-python",
   "name": "python",
   "nbconvert_exporter": "python",
   "pygments_lexer": "ipython2",
   "version": "2.7.6"
  }
 },
 "nbformat": 4,
 "nbformat_minor": 0
}
